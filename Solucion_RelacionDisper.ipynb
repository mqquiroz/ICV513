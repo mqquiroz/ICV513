{
  "nbformat": 4,
  "nbformat_minor": 0,
  "metadata": {
    "colab": {
      "provenance": [],
      "authorship_tag": "ABX9TyMRsxzAvBChAXPT7nx000J5",
      "include_colab_link": true
    },
    "kernelspec": {
      "name": "python3",
      "display_name": "Python 3"
    },
    "language_info": {
      "name": "python"
    }
  },
  "cells": [
    {
      "cell_type": "markdown",
      "metadata": {
        "id": "view-in-github",
        "colab_type": "text"
      },
      "source": [
        "<a href=\"https://colab.research.google.com/github/mqquiroz/ICV513/blob/main/Solucion_RelacionDisper.ipynb\" target=\"_parent\"><img src=\"https://colab.research.google.com/assets/colab-badge.svg\" alt=\"Open In Colab\"/></a>"
      ]
    },
    {
      "cell_type": "markdown",
      "source": [
        "# ICV513: Ingeniería de Costas\n",
        "## Universidad Católica del Maule (UCM)"
      ],
      "metadata": {
        "id": "jPP-Mm-SkRan"
      }
    },
    {
      "cell_type": "markdown",
      "source": [
        "### Cálculo iterativo de la celeridad de la onda a partir de la ecuación de dispersión (resolución relación de dispersión)\n",
        "\n",
        "La celeridad (velocidad de fase) de la onda puede ser escrita de dos forma:\n",
        "\n",
        "$$ C=\\frac{\\omega}{k}=\\frac{2 \\pi f}{k} \\tag{1} $$\n",
        "\n",
        "y:\n",
        "\n",
        "$$ C=\\frac{\\omega}{k}=\\sqrt{\\frac{g}{k} \\tanh(kh)}=\\sqrt{\\frac{g L}{2 \\pi} \\tanh \\left(\\frac{2 \\pi h}{L}\\right) } \\tag{2} $$\n",
        "\n",
        "donde $\\omega$, $f$ y $h$ representan la frecuencia angular, frecuencia, y profundidad del agua, respectivamente. $k$, $L$ y $g$ son el número de onda, longitud de onda y la aceleración gravitacional, respectivamente.\n",
        "\n",
        "\n",
        "Para resolver la ecuación de dispersión, podemos utilizar la metodología propuesta por Watada (2013). Para la velocidad de fase $C(f,h)$; Se necesita  para un par dado de frecuencia $f$ y profundidad $h$. Sin embargo, $C$ no se puede calcular directamente con las ecuaciones, porque $C$ tiene una variable desconocida (el número de onda $k$). Por lo tanto, para calcular el número de onda $k(f,h)$ para un par dado de frecuencia $f$ y profundidad $h$, primero resolvemos la forma combinada de las dos ecuaciones anteriores:\n",
        "\n",
        "$$\\frac{2 \\pi f}{k}=\\sqrt{\\frac{g}{k} \\tanh k h} \\tag{3}$$\n",
        "\n",
        "Una vez que tenemos $k(f,h)$, la velocidad de fase $C(f,h)$; se puede calcular con las ecuaciones (1) o (2).\n",
        "\n",
        "Debido a que la ecuación anterior no puede resolverse analíticamente, lo resolvimos iterativamente usando un algoritmo recursivo.\n",
        "\n",
        "Comenzamos con cálculos iterativos:\n",
        "\n",
        "$$k_{n}=\\frac{2 \\pi f}{C_{n-1}}, \\quad n=1,2,3, \\ldots  \\tag{4}$$\n",
        "\n",
        "Donde:\n",
        "\n",
        "$$ C_{n}=\\sqrt{\\frac{g}{k_{n}} \\tanh k_{n} h} \\quad n=1,2,3, \\ldots \\tag{5} $$\n",
        "\n",
        "Con un valor inicial dado por:\n",
        "\n",
        "$$ C_{0}=\\sqrt{g h} \\tag{6} $$\n",
        "\n",
        "Los cálculos se repiten hasta (alcanzar una cierta tolerancia) que se cumple la condición adimensional para la convergencia:\n",
        "\n",
        "$$ \\frac{\\left|k_{n}-k_{n-1}\\right|}{k_{n}}< tol \\tag{7}$$"
      ],
      "metadata": {
        "id": "9c4XR8FEkkYs"
      }
    },
    {
      "cell_type": "code",
      "execution_count": 23,
      "metadata": {
        "id": "u8gJwwZzgpH7"
      },
      "outputs": [],
      "source": [
        "import numpy as np\n",
        "\n",
        "def disper(h,T,tol=1e-6):\n",
        "  g = 9.81 #aceleracion de gravedad\n",
        "  f = 1/T\n",
        "  C = np.sqrt(g*h)\n",
        "  kn_1 = 0\n",
        "  while True:\n",
        "    k = 2*np.pi*f/C\n",
        "    C = np.sqrt((g/k)*np.tanh(k*h))\n",
        "    if np.abs(k-kn_1)/(k) <= tol:\n",
        "      break\n",
        "    kn_1 = k\n",
        "  return C\n",
        "\n"
      ]
    },
    {
      "cell_type": "markdown",
      "source": [
        "Para una onda de periodo $T=10$ s, Profundidad $h=50$ m, encontrar la longitud de la onda $L$"
      ],
      "metadata": {
        "id": "rJwzXfrXkvxH"
      }
    },
    {
      "cell_type": "code",
      "source": [
        "h = 50 #(m)\n",
        "T = 10 #(s)\n",
        "C = disper(h,T)\n",
        "L = C*T\n",
        "print('La longitud de onda es: ',np.round(L,3),'m')"
      ],
      "metadata": {
        "id": "wUu_9os3k5kY",
        "outputId": "1850e3b9-602e-46d8-b22b-c225ae1f1d2c",
        "colab": {
          "base_uri": "https://localhost:8080/"
        }
      },
      "execution_count": 24,
      "outputs": [
        {
          "output_type": "stream",
          "name": "stdout",
          "text": [
            "La longitud de onda es:  151.298 m\n"
          ]
        }
      ]
    }
  ]
}