{
  "nbformat": 4,
  "nbformat_minor": 0,
  "metadata": {
    "colab": {
      "provenance": [],
      "authorship_tag": "ABX9TyM242lEbor50or3FnqAp0ll",
      "include_colab_link": true
    },
    "kernelspec": {
      "name": "python3",
      "display_name": "Python 3"
    },
    "language_info": {
      "name": "python"
    }
  },
  "cells": [
    {
      "cell_type": "markdown",
      "metadata": {
        "id": "view-in-github",
        "colab_type": "text"
      },
      "source": [
        "<a href=\"https://colab.research.google.com/github/mqquiroz/ICV513/blob/main/Superficie_Libre_ICV513.ipynb\" target=\"_parent\"><img src=\"https://colab.research.google.com/assets/colab-badge.svg\" alt=\"Open In Colab\"/></a>"
      ]
    },
    {
      "cell_type": "markdown",
      "source": [
        "# Gráfica de la Superficie Libre ($\\eta$)\n",
        "\n",
        "Ejercicio: \n",
        "\n",
        "Grafique $\\eta$ para una altura de ola $H=1.5$ (m), Longitud de onda $L = 150$ (m), periodo $T = 15$ (s) y profundida $h = 25$ (m)"
      ],
      "metadata": {
        "id": "KaKo4-Lsiemj"
      }
    },
    {
      "cell_type": "code",
      "execution_count": 2,
      "metadata": {
        "id": "gsc6InUgiZ57"
      },
      "outputs": [],
      "source": [
        "#Aqui voy a empezar a escribir mi código\n",
        "\n",
        "#Declarar librerias a utilizar\n",
        "import numpy as np #libreria de operaciones matematicas\n",
        "import matplotlib.pyplot as plt #libreria de gráficos"
      ]
    },
    {
      "cell_type": "code",
      "source": [
        "# Datos\n",
        "H = 1.5 #Altura de ola (m)\n",
        "L = 150 #Longitud de onda (m)\n",
        "T = 15  #Periodo (s)\n",
        "h = 25  #Profundidad (m)\n",
        "\n",
        "#Cálculos\n",
        "omega = 2*np.pi/T #frecuencia angular (rad/s)\n",
        "k     = 2*np.pi/L #número de onda (rad/m)\n",
        "\n",
        "#graficaremos para t = 0 y para 4 longitudes de onda\n",
        "t = 0\n",
        "\n",
        "dx = 1\n",
        "x = np.arange(0,4*L+dx,dx)\n",
        "\n",
        "#superficie libre\n",
        "eta = (H/2)*np.cos(k*x-omega*t)\n",
        "\n",
        "plt.plot(x,eta) #grafica x versus eta\n",
        "plt.ylim(-h,2*H) #restringe el limite en y desde -h hasta 2 veces H\n",
        "plt.xlim(0,4*L) #restringe el limite en x desde 0 hasta 4 veces L\n",
        "plt.xlabel(\"x (m)\",fontsize=15) #rotulo en x\n",
        "plt.ylabel('z (m)',fontsize=15) #rotulo en y\n",
        "plt.title('Gráfica de $\\eta$ v/s $x$',fontsize=18) # sirve para hacer titulos en un grafico\n",
        "plt.grid() #agrega una grilla en la grafica\n",
        "plt.show() #muestra la grafica (siempre se debe incluir al final de los graficos)"
      ],
      "metadata": {
        "colab": {
          "base_uri": "https://localhost:8080/",
          "height": 307
        },
        "id": "jN9Z7JP1jkuy",
        "outputId": "7668ab63-d0d3-4230-c06a-02ba4db172f3"
      },
      "execution_count": 13,
      "outputs": [
        {
          "output_type": "display_data",
          "data": {
            "text/plain": [
              "<Figure size 432x288 with 1 Axes>"
            ],
            "image/png": "[encoded data removed]"
          },
          "metadata": {
            "needs_background": "light"
          }
        }
      ]
    }
  ]
}