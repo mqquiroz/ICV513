{
  "nbformat": 4,
  "nbformat_minor": 0,
  "metadata": {
    "colab": {
      "provenance": [],
      "authorship_tag": "ABX9TyMR1XXTfMJSVHS8WscblV+g",
      "include_colab_link": true
    },
    "kernelspec": {
      "name": "python3",
      "display_name": "Python 3"
    },
    "language_info": {
      "name": "python"
    }
  },
  "cells": [
    {
      "cell_type": "markdown",
      "metadata": {
        "id": "view-in-github",
        "colab_type": "text"
      },
      "source": [
        "<a href=\"https://colab.research.google.com/github/mqquiroz/ICV513/blob/main/Dispersion_Watada.ipynb\" target=\"_parent\"><img src=\"https://colab.research.google.com/assets/colab-badge.svg\" alt=\"Open In Colab\"/></a>"
      ]
    },
    {
      "cell_type": "code",
      "execution_count": 3,
      "metadata": {
        "colab": {
          "base_uri": "https://localhost:8080/"
        },
        "id": "ovrsRhBtmjnh",
        "outputId": "25186976-d3a7-4102-8e94-3ea32ce9dc41"
      },
      "outputs": [
        {
          "output_type": "stream",
          "name": "stdout",
          "text": [
            "0.09869604401089357\n"
          ]
        }
      ],
      "source": [
        "import numpy as np\n",
        "\n",
        "#Datos\n",
        "h = 50 #Profundidad (m)\n",
        "T = 20 #Periodo (s)\n",
        "g = 9.81 #Aceleración de gravedad (m/s2)\n",
        "\n",
        "#---------\n",
        "omega = 2*np.pi/T # frecuencia angular (rad/s)\n",
        "omega2 = omega**2\n",
        "print(omega2)"
      ]
    },
    {
      "cell_type": "code",
      "source": [
        "k = 0.0155 #0.0154885\n",
        "RHS = 9.81*k*np.tanh(k*h)\n",
        "print(RHS)"
      ],
      "metadata": {
        "colab": {
          "base_uri": "https://localhost:8080/"
        },
        "id": "xt354Vvsnkm6",
        "outputId": "7aa44e1f-0203-4f89-948e-61439327d068"
      },
      "execution_count": 28,
      "outputs": [
        {
          "output_type": "stream",
          "name": "stdout",
          "text": [
            "0.09880951498863384\n"
          ]
        }
      ]
    },
    {
      "cell_type": "code",
      "source": [
        "L = 2*np.pi/k\n",
        "print(\"La longitud de onda es: \",np.round(L,2),\" (m)\")\n",
        "\n",
        "C = L/T\n",
        "\n",
        "print(\"La celeridad de onda es: \",np.round(C,2),\" (m/s)\")"
      ],
      "metadata": {
        "colab": {
          "base_uri": "https://localhost:8080/"
        },
        "id": "a7WaL0bdpjFA",
        "outputId": "04b31437-c9fd-4218-e0c9-45cabc1befe6"
      },
      "execution_count": 29,
      "outputs": [
        {
          "output_type": "stream",
          "name": "stdout",
          "text": [
            "La longitud de onda es:  405.37  (m)\n",
            "La celeridad de onda es:  20.27  (m/s)\n"
          ]
        }
      ]
    },
    {
      "cell_type": "code",
      "source": [
        "np.pi**2/100/9.81"
      ],
      "metadata": {
        "colab": {
          "base_uri": "https://localhost:8080/"
        },
        "id": "EaucMMiIsoQL",
        "outputId": "3871a4f6-1d0f-4033-e9c7-8fb5ba27dc17"
      },
      "execution_count": 27,
      "outputs": [
        {
          "output_type": "execute_result",
          "data": {
            "text/plain": [
              "0.010060758818643585"
            ]
          },
          "metadata": {},
          "execution_count": 27
        }
      ]
    },
    {
      "cell_type": "code",
      "source": [
        "#Método de Guo (2002)\n",
        "x = h*omega/np.sqrt(g*h)\n",
        "b = 2.4908\n",
        "\n",
        "L_g = 2*np.pi*h/( x**2 * ((1-np.exp(-x**b))**(-1/b) ) )\n",
        "print(L_g)"
      ],
      "metadata": {
        "colab": {
          "base_uri": "https://localhost:8080/"
        },
        "id": "zsOke8dZtdLY",
        "outputId": "c6e08182-7b8f-42b5-c0cd-917e61b5885a"
      },
      "execution_count": 31,
      "outputs": [
        {
          "output_type": "stream",
          "name": "stdout",
          "text": [
            "407.95250724153635\n"
          ]
        }
      ]
    },
    {
      "cell_type": "code",
      "source": [
        "def dispersion(h,T,tol=1e-4):\n",
        "  delta_c = 0.0001\n",
        "  f = 1/T\n",
        "  C = np.sqrt(g*h)\n",
        "  while True:\n",
        "    k = 2*np.pi*f/C\n",
        "    C = np.sqrt(g/k*np.tanh(k*h))\n",
        "    if delta_c*k/(2*np.pi*f) <= tol:\n",
        "      break\n",
        "  return C"
      ],
      "metadata": {
        "id": "QoUi5nD_zYwl"
      },
      "execution_count": 52,
      "outputs": []
    },
    {
      "cell_type": "code",
      "source": [
        "C_w = dispersion(h,T)\n",
        "\n",
        "L_w = C_w*T\n",
        "print(L_w)"
      ],
      "metadata": {
        "colab": {
          "base_uri": "https://localhost:8080/"
        },
        "id": "r0Vo5mfV0Cxf",
        "outputId": "8bc21a1a-2e0e-49c0-d716-3ebe74220acc"
      },
      "execution_count": 53,
      "outputs": [
        {
          "output_type": "stream",
          "name": "stdout",
          "text": [
            "410.854490758691\n"
          ]
        }
      ]
    }
  ]
}